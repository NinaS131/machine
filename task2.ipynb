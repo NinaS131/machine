{
 "cells": [
  {
   "cell_type": "code",
   "execution_count": 282,
   "metadata": {
    "collapsed": false
   },
   "outputs": [],
   "source": [
    "%matplotlib inline\n",
    "import re\n",
    "\n",
    "import pandas\n",
    "import numpy as np\n",
    "import matplotlib.pyplot as plt\n",
    "from nltk import word_tokenize, stem\n",
    "from nltk.stem import SnowballStemmer, PorterStemmer, WordNetLemmatizer\n",
    "\n",
    "from sklearn.feature_extraction.text import CountVectorizer, TfidfVectorizer\n",
    "from sklearn.dummy import DummyClassifier\n",
    "from sklearn.naive_bayes import MultinomialNB\n",
    "from sklearn.tree import DecisionTreeClassifier\n",
    "from sklearn.ensemble import RandomForestClassifier\n",
    "from sklearn.metrics import classification_report, f1_score, accuracy_score, roc_curve, roc_auc_score\n",
    "from sklearn.model_selection import StratifiedKFold, cross_val_score, train_test_split"
   ]
  },
  {
   "cell_type": "markdown",
   "metadata": {},
   "source": [
    "### Загрузка данных"
   ]
  },
  {
   "cell_type": "markdown",
   "metadata": {},
   "source": [
    "Загрузим датасет, и проверим, сбалансирован ли он:"
   ]
  },
  {
   "cell_type": "code",
   "execution_count": 330,
   "metadata": {
    "collapsed": false
   },
   "outputs": [
    {
     "name": "stdout",
     "output_type": "stream",
     "text": [
      "ham     4825\n",
      "spam     747\n",
      "Name: label, dtype: int64\n",
      "\n",
      "\n",
      "ham     0.865937\n",
      "spam    0.134063\n",
      "Name: label, dtype: float64\n"
     ]
    }
   ],
   "source": [
    "path = 'SMSSpamCollection'\n",
    "messages = pandas.read_csv(path, sep='\\t',\n",
    "                           names=['label', 'message'])\n",
    "print(messages['label'].value_counts())\n",
    "print('\\n')\n",
    "print(messages['label'].value_counts('normalize'))"
   ]
  },
  {
   "cell_type": "markdown",
   "metadata": {},
   "source": [
    "Видно, что датасет значительно перекошен в сторону не-спама -- к счастью, люди обычно получают спам значительно реже, чем в половине случаев. \n",
    "\n",
    "Если мы этих данных обучим *DummyClassifier*, который будем выдавать 'ham' на любое сообщение, то получим *accuracy* около 0.86. Это неплохой результат для классификатора, но совершенно бесполезно для нашей задачи."
   ]
  },
  {
   "cell_type": "code",
   "execution_count": 4,
   "metadata": {
    "collapsed": false
   },
   "outputs": [
    {
     "name": "stdout",
     "output_type": "stream",
     "text": [
      "0.86961722488\n"
     ]
    }
   ],
   "source": [
    "cls = DummyClassifier(strategy='constant', constant='ham')\n",
    "X_train, X_test, y_train, y_test = train_test_split(\n",
    "    np.zeros((len(messages['label']), 1)), \n",
    "    np.array(messages['label']), \n",
    "    test_size=0.3)\n",
    "cls.fit(X_train, y_train)\n",
    "y_pred = cls.predict(X_test)\n",
    "print accuracy_score(y_pred, y_test)"
   ]
  },
  {
   "cell_type": "markdown",
   "metadata": {},
   "source": [
    "Выберем для тренировки примерно поровну спама и не-спама:"
   ]
  },
  {
   "cell_type": "code",
   "execution_count": 77,
   "metadata": {
    "collapsed": false
   },
   "outputs": [],
   "source": [
    "def get_balanced_train_indices(messages, spam_train_part):\n",
    "    train_indices = []\n",
    "    spam_train_part = 0.7\n",
    "    n_samples = int(spam_train_part * messages['label'].value_counts().min())\n",
    "    for label in ('ham', 'spam'):\n",
    "        samples = messages[messages['label'] == label].index.values\n",
    "        indices = np.random.choice(samples, size=n_samples, replace=False)\n",
    "        train_indices.extend(indices.tolist())\n",
    "    train_indices = np.array(train_indices)\n",
    "    np.random.shuffle(train_indices)\n",
    "    print('{} balanced train samples prepared.'.format(len(train_indices)))\n",
    "    return train_indices"
   ]
  },
  {
   "cell_type": "code",
   "execution_count": 78,
   "metadata": {
    "collapsed": false
   },
   "outputs": [
    {
     "name": "stdout",
     "output_type": "stream",
     "text": [
      "1044 balanced train samples prepared.\n",
      "5572 test samples\n"
     ]
    }
   ],
   "source": [
    "train_indices = get_balanced_train_indices(messages, 0.7)\n",
    "test_indices = np.array(list(set(range(len(messages))) - set(train_indices)))\n",
    "print('{} test samples'.format(len(test_indices) + len(train_indices)))\n",
    "\n",
    "y = np.array(messages['label'])\n",
    "y = np.array([1 if label == 'spam' else 0 for label in y])\n",
    "y_train, y_test = y[train_indices], y[test_indices]"
   ]
  },
  {
   "cell_type": "markdown",
   "metadata": {},
   "source": [
    "Построим фичи на основе CountVectorizer (bag-of-words) и попробуем обучить байесовскую модель:"
   ]
  },
  {
   "cell_type": "code",
   "execution_count": 91,
   "metadata": {
    "collapsed": false
   },
   "outputs": [
    {
     "name": "stdout",
     "output_type": "stream",
     "text": [
      "MultinomialNB BOW + word tokenizer.\n",
      "accuracy:\t0.966\n",
      "f1:\t\t0.734\n"
     ]
    }
   ],
   "source": [
    "X = CountVectorizer().fit_transform(messages['message'])\n",
    "X_train, X_test = X[train_indices], X[test_indices]\n",
    "y_pred = MultinomialNB().fit(X_train, y_train).predict(X_test)\n",
    "print('MultinomialNB BOW + word tokenizer.\\naccuracy:\\t{:.3f}\\nf1:\\t\\t{:.3f}'.format(\n",
    "    accuracy_score(y_test, y_pred), f1_score(y_test, y_pred)))"
   ]
  },
  {
   "cell_type": "markdown",
   "metadata": {},
   "source": [
    "### Токенизация"
   ]
  },
  {
   "cell_type": "markdown",
   "metadata": {},
   "source": [
    "Добавим токенизатор:"
   ]
  },
  {
   "cell_type": "code",
   "execution_count": 95,
   "metadata": {
    "collapsed": false
   },
   "outputs": [
    {
     "name": "stdout",
     "output_type": "stream",
     "text": [
      "['Hello', 'You', 'called', '911', 'what', 's', 'your', 'concern']\n"
     ]
    }
   ],
   "source": [
    "class WordTokenizer(object):\n",
    "    def __call__(self, string):\n",
    "        tokens = re.split(r'\\W', string)\n",
    "        tokens = [token for token in tokens if token != '']\n",
    "        return tokens\n",
    "print(WordTokenizer()(\"Hello! You called 911, what's your concern?\"))"
   ]
  },
  {
   "cell_type": "code",
   "execution_count": 92,
   "metadata": {
    "collapsed": false,
    "scrolled": true
   },
   "outputs": [
    {
     "name": "stdout",
     "output_type": "stream",
     "text": [
      "MultinomialNB BOW + word tokenizer.\n",
      "accuracy:\t0.972\n",
      "f1:\t\t0.768\n"
     ]
    }
   ],
   "source": [
    "X = CountVectorizer(\n",
    "    tokenizer=WordTokenizer(),\n",
    "    ).fit_transform(messages['message'])\n",
    "X_train, X_test = X[train_indices], X[test_indices]\n",
    "y_pred = MultinomialNB().fit(X_train, y_train).predict(X_test)\n",
    "print('MultinomialNB BOW + word tokenizer.\\naccuracy:\\t{:.3f}\\nf1:\\t\\t{:.3f}'.format(\n",
    "    accuracy_score(y_test, y_pred), f1_score(y_test, y_pred)))"
   ]
  },
  {
   "cell_type": "markdown",
   "metadata": {},
   "source": [
    "Благодаря уменьшению размера словаря после токенизации, качество немного повысилось.\n",
    "Попробуем теперь оставлять знаки препинания как отдельные токены:"
   ]
  },
  {
   "cell_type": "code",
   "execution_count": 108,
   "metadata": {
    "collapsed": false
   },
   "outputs": [
    {
     "name": "stdout",
     "output_type": "stream",
     "text": [
      "['Hello', '!', 'You', 'called', '911', ',', 'what', \"'\", 's', 'your', 'concern', '?']\n"
     ]
    }
   ],
   "source": [
    "class TokenTokenizer(object):\n",
    "    def __call__(self, string):\n",
    "        string = re.sub(r'(\\W)', r' \\1 ', string)\n",
    "        tokens = string.split()\n",
    "        tokens = [token for token in tokens if token != '']\n",
    "        return tokens\n",
    "print(TokenTokenizer()(\"Hello! You called 911, what's your concern?\"))"
   ]
  },
  {
   "cell_type": "code",
   "execution_count": 110,
   "metadata": {
    "collapsed": false
   },
   "outputs": [
    {
     "name": "stdout",
     "output_type": "stream",
     "text": [
      "MultinomialNB BOW + token tokenizer.\n",
      "accuracy:\t0.973\n",
      "f1:\t\t0.779\n"
     ]
    }
   ],
   "source": [
    "X = CountVectorizer(\n",
    "    tokenizer=TokenTokenizer(),\n",
    "    ).fit_transform(messages['message'])\n",
    "X_train, X_test = X[train_indices], X[test_indices]\n",
    "y_pred = MultinomialNB().fit(X_train, y_train).predict(X_test)\n",
    "print('MultinomialNB BOW + token tokenizer.\\naccuracy:\\t{:.3f}\\nf1:\\t\\t{:.3f}'.format(\n",
    "    accuracy_score(y_test, y_pred), f1_score(y_test, y_pred)))"
   ]
  },
  {
   "cell_type": "markdown",
   "metadata": {},
   "source": [
    "Наконец, попробуем использовать стандартный токенайзер от nltk: он тоже отделяет знаки препинания, но иначе обрабатывает притяжательные прилагательные и другие конструкции:"
   ]
  },
  {
   "cell_type": "code",
   "execution_count": 113,
   "metadata": {
    "collapsed": false
   },
   "outputs": [
    {
     "name": "stdout",
     "output_type": "stream",
     "text": [
      "['Hello', '!', 'You', 'called', '911', ',', 'what', \"'s\", 'your', 'concern', '?']\n"
     ]
    }
   ],
   "source": [
    "print(word_tokenize(\"Hello! You called 911, what's your concern?\"))"
   ]
  },
  {
   "cell_type": "code",
   "execution_count": 112,
   "metadata": {
    "collapsed": false
   },
   "outputs": [
    {
     "name": "stdout",
     "output_type": "stream",
     "text": [
      "MultinomialNB BOW + nltk tokenizer.\n",
      "accuracy:\t0.965\n",
      "f1:\t\t0.727\n"
     ]
    }
   ],
   "source": [
    "X = CountVectorizer(\n",
    "    tokenizer=lambda x: word_tokenize(x),\n",
    "    ).fit_transform(messages['message'])\n",
    "X_train, X_test = X[train_indices], X[test_indices]\n",
    "y_pred = MultinomialNB().fit(X_train, y_train).predict(X_test)\n",
    "print('MultinomialNB BOW + nltk tokenizer.\\naccuracy:\\t{:.3f}\\nf1:\\t\\t{:.3f}'.format(\n",
    "    accuracy_score(y_test, y_pred), f1_score(y_test, y_pred)))"
   ]
  },
  {
   "cell_type": "markdown",
   "metadata": {},
   "source": [
    "Умная токенизация здесь сделала только хуже: возможно, правила литературного английского плохо применимы к языку быстрой переписки."
   ]
  },
  {
   "cell_type": "markdown",
   "metadata": {},
   "source": [
    "### Стемминг и лемматизация"
   ]
  },
  {
   "cell_type": "markdown",
   "metadata": {},
   "source": [
    "Попробуем добавить стемминг: в общем доступе можно найти только разные вариации SnowballStemmer/PorterStemmer. \n",
    "Поэтому ограничимся им."
   ]
  },
  {
   "cell_type": "code",
   "execution_count": 140,
   "metadata": {
    "collapsed": false
   },
   "outputs": [
    {
     "name": "stdout",
     "output_type": "stream",
     "text": [
      "Before stem: \"words\", after stem: \"word:\n",
      "Before stem: \",\", after stem: \",:\n",
      "Before stem: \"flying\", after stem: \"fli:\n"
     ]
    }
   ],
   "source": [
    "stemmer = PorterStemmer()\n",
    "for word in ('words', ',', 'flying'):\n",
    "    print('Before stem: \"{}\", after stem: \"{}:'.format(word, stemmer.stem(word)))"
   ]
  },
  {
   "cell_type": "code",
   "execution_count": 141,
   "metadata": {
    "collapsed": false
   },
   "outputs": [],
   "source": [
    "class StemTokenizer(TokenTokenizer):\n",
    "    def __init__(self):\n",
    "        self.stemmer = PorterStemmer()\n",
    "        \n",
    "    def __call__(self, string):\n",
    "        tokens = super(StemTokenizer, self).__call__(string)\n",
    "        return [self.stemmer.stem(token) for token in tokens]"
   ]
  },
  {
   "cell_type": "code",
   "execution_count": 184,
   "metadata": {
    "collapsed": false
   },
   "outputs": [
    {
     "name": "stdout",
     "output_type": "stream",
     "text": [
      "MultinomialNB BOW + stemming tokenizer.\n",
      "accuracy:\t0.973\n",
      "f1:\t\t0.779\n"
     ]
    }
   ],
   "source": [
    "X = CountVectorizer(\n",
    "    tokenizer=StemTokenizer(),\n",
    "    ).fit_transform(messages['message'])\n",
    "X_train, X_test = X[train_indices], X[test_indices]\n",
    "y_pred = MultinomialNB().fit(X_train, y_train).predict(X_test)\n",
    "print('MultinomialNB BOW + stemming tokenizer.\\naccuracy:\\t{:.3f}\\nf1:\\t\\t{:.3f}'.format(\n",
    "    accuracy_score(y_test, y_pred), f1_score(y_test, y_pred)))"
   ]
  },
  {
   "cell_type": "markdown",
   "metadata": {},
   "source": [
    "Разница незаметна, а вот время работы заметно увеличилось. Поэтому использовать стемминг мы не будем. \n",
    "\n",
    "Попробуем теперь лемматизацию на основе WordNet словарей: она должна быть менее грубой, чем стемминг. Но и значительно более бедной, а значит, это вряд ли сильно повлияет на наш, довольно специфический датасет."
   ]
  },
  {
   "cell_type": "code",
   "execution_count": 149,
   "metadata": {
    "collapsed": false
   },
   "outputs": [
    {
     "name": "stdout",
     "output_type": "stream",
     "text": [
      "Before stem: \"words\", after stem: \"word:\n",
      "Before stem: \",\", after stem: \",:\n",
      "Before stem: \"flying\", after stem: \"flying:\n"
     ]
    }
   ],
   "source": [
    "lemmatizer = WordNetLemmatizer()\n",
    "for word in ('words', ',', 'flying'):\n",
    "    print('Before stem: \"{}\", after stem: \"{}:'.format(word, lemmatizer.lemmatize(word)))"
   ]
  },
  {
   "cell_type": "code",
   "execution_count": 150,
   "metadata": {
    "collapsed": true
   },
   "outputs": [],
   "source": [
    "class LemmatizeTokenizer(TokenTokenizer):\n",
    "    def __init__(self):\n",
    "        self.lemmatizer = WordNetLemmatizer()\n",
    "        \n",
    "    def __call__(self, string):\n",
    "        tokens = super(WordNetLemmatizer, self).__call__(string)\n",
    "        return [self.lemmatizer.lemmatize(token) for token in tokens]"
   ]
  },
  {
   "cell_type": "code",
   "execution_count": 183,
   "metadata": {
    "collapsed": false
   },
   "outputs": [
    {
     "name": "stdout",
     "output_type": "stream",
     "text": [
      "MultinomialNB BOW + lemmatize tokenizer.\n",
      "accuracy:\t0.973\n",
      "f1:\t\t0.779\n"
     ]
    }
   ],
   "source": [
    "X = CountVectorizer(\n",
    "    tokenizer=StemTokenizer(),\n",
    "    ).fit_transform(messages['message'])\n",
    "X_train, X_test = X[train_indices], X[test_indices]\n",
    "y_pred = MultinomialNB().fit(X_train, y_train).predict(X_test)\n",
    "print('MultinomialNB BOW + lemmatize tokenizer.\\naccuracy:\\t{:.3f}\\nf1:\\t\\t{:.3f}'.format(\n",
    "    accuracy_score(y_test, y_pred), f1_score(y_test, y_pred)))"
   ]
  },
  {
   "cell_type": "markdown",
   "metadata": {},
   "source": [
    "Действительно, изменений не видно, как и ожидалось."
   ]
  },
  {
   "cell_type": "markdown",
   "metadata": {},
   "source": [
    "### Удаление стоп-слов и пороги document frequency"
   ]
  },
  {
   "cell_type": "markdown",
   "metadata": {},
   "source": [
    "Воспользуемся встроенным списком стоп-слов в CountVectorizer:"
   ]
  },
  {
   "cell_type": "code",
   "execution_count": 182,
   "metadata": {
    "collapsed": false
   },
   "outputs": [
    {
     "name": "stdout",
     "output_type": "stream",
     "text": [
      "MultinomialNB BOW + built-in stopwords.\n",
      "accuracy:\t0.956\n",
      "f1:\t\t0.688\n"
     ]
    }
   ],
   "source": [
    "X = CountVectorizer(\n",
    "    tokenizer=TokenTokenizer(),\n",
    "    stop_words='english'\n",
    "    ).fit_transform(messages['message'])\n",
    "X_train, X_test = X[train_indices], X[test_indices]\n",
    "y_pred = MultinomialNB().fit(X_train, y_train).predict(X_test)\n",
    "print('MultinomialNB BOW + built-in stopwords.\\naccuracy:\\t{:.3f}\\nf1:\\t\\t{:.3f}'.format(\n",
    "    accuracy_score(y_test, y_pred), f1_score(y_test, y_pred)))"
   ]
  },
  {
   "cell_type": "markdown",
   "metadata": {},
   "source": [
    "Возьмем какой-нибудь [внешний список стоп-слов](https://sites.google.com/site/kevinbouge/stopwords-lists/stopwords_en.txt?attredirects=0&d=1) для английского языка и попробуем отфильтровать их перед векторизацией."
   ]
  },
  {
   "cell_type": "code",
   "execution_count": 156,
   "metadata": {
    "collapsed": false
   },
   "outputs": [
    {
     "name": "stdout",
     "output_type": "stream",
     "text": [
      "(571, ['a', \"a's\", 'able', 'about', 'above'])\n"
     ]
    }
   ],
   "source": [
    "my_stopwords = set()\n",
    "with open('stopwords_en.txt') as stopfile:\n",
    "    my_stopwords = stopfile.read().split()\n",
    "print(len(my_stopwords), my_stopwords[:5])"
   ]
  },
  {
   "cell_type": "code",
   "execution_count": 181,
   "metadata": {
    "collapsed": false
   },
   "outputs": [
    {
     "name": "stdout",
     "output_type": "stream",
     "text": [
      "MultinomialNB BOW + my stopwords.\n",
      "accuracy:\t0.936\n",
      "f1:\t\t0.599\n"
     ]
    }
   ],
   "source": [
    "cls = CountVectorizer(\n",
    "    tokenizer=TokenTokenizer(),\n",
    "    stop_words=my_stopwords\n",
    "    )\n",
    "X = cls.fit_transform(messages['message'])\n",
    "X_train, X_test = X[train_indices], X[test_indices]\n",
    "y_pred = MultinomialNB().fit(X_train, y_train).predict(X_test)\n",
    "print('MultinomialNB BOW + my stopwords.\\naccuracy:\\t{:.3f}\\nf1:\\t\\t{:.3f}'.format(\n",
    "    accuracy_score(y_test, y_pred), f1_score(y_test, y_pred)))"
   ]
  },
  {
   "cell_type": "markdown",
   "metadata": {},
   "source": [
    "Попробуем отфильтровать стоп-слова автоматически, настраивая max_df.\n",
    "Для этого будем смотреть на размер словаря и постепенно вариьировать max_df."
   ]
  },
  {
   "cell_type": "code",
   "execution_count": 170,
   "metadata": {
    "collapsed": false
   },
   "outputs": [
    {
     "name": "stdout",
     "output_type": "stream",
     "text": [
      "MultinomialNB BOW with max_df=1.0 and vocab_size=8798.\n",
      "accuracy:\t0.973\n",
      "f1:\t\t0.779\n",
      "MultinomialNB BOW with max_df=0.7 and vocab_size=8798.\n",
      "accuracy:\t0.973\n",
      "f1:\t\t0.779\n",
      "MultinomialNB BOW with max_df=0.5 and vocab_size=8797.\n",
      "accuracy:\t0.973\n",
      "f1:\t\t0.777\n",
      "MultinomialNB BOW with max_df=0.3 and vocab_size=8795.\n",
      "accuracy:\t0.971\n",
      "f1:\t\t0.769\n",
      "MultinomialNB BOW with max_df=0.2 and vocab_size=8790.\n",
      "accuracy:\t0.969\n",
      "f1:\t\t0.754\n",
      "MultinomialNB BOW with max_df=0.15 and vocab_size=8788.\n",
      "accuracy:\t0.971\n",
      "f1:\t\t0.768\n",
      "MultinomialNB BOW with max_df=0.1 and vocab_size=8778.\n",
      "accuracy:\t0.966\n",
      "f1:\t\t0.738\n",
      "MultinomialNB BOW with max_df=0.05 and vocab_size=8741.\n",
      "accuracy:\t0.964\n",
      "f1:\t\t0.728\n"
     ]
    }
   ],
   "source": [
    "for max_df in (1.0, 0.7, 0.5, 0.3, 0.2, 0.15, 0.1, 0.05):\n",
    "    cls = CountVectorizer(\n",
    "        tokenizer=TokenTokenizer(),\n",
    "        max_df=max_df\n",
    "        )\n",
    "    X = cls.fit_transform(messages['message'])\n",
    "    X_train, X_test = X[train_indices], X[test_indices]\n",
    "    y_pred = MultinomialNB().fit(X_train, y_train).predict(X_test)\n",
    "    print('MultinomialNB BOW with max_df={} and vocab_size={}.\\naccuracy:\\t{:.3f}\\nf1:\\t\\t{:.3f}'.format(\n",
    "        max_df, len(cls.vocabulary_), accuracy_score(y_test, y_pred), f1_score(y_test, y_pred)))"
   ]
  },
  {
   "cell_type": "markdown",
   "metadata": {},
   "source": [
    "Для уменьшения словаря нам приходится очень сильно занижать max_df (в документации к CountVectorizer предлагается ставить *max_df=0.7*). Это связано с тем, что тексты смск-сообщений короткие и даже общеупотребимые предлоги не используются в половине всех смсок. \n",
    "\n",
    "Так что данный подход не очень эффективен здесь."
   ]
  },
  {
   "cell_type": "markdown",
   "metadata": {},
   "source": [
    "Зато увеличение min_df позволяет решить проблему, с которой не могли справиться лемматизация и стемминг.\n",
    "Размер словаря сильно уменьшается, пропадают редкие слова, которые все равно плохо годятся в качестве фич и растет качество."
   ]
  },
  {
   "cell_type": "code",
   "execution_count": 176,
   "metadata": {
    "collapsed": false
   },
   "outputs": [
    {
     "name": "stdout",
     "output_type": "stream",
     "text": [
      "MultinomialNB BOW with min_df=1 and vocab_size=8798.\n",
      "accuracy:\t0.973\n",
      "f1:\t\t0.779\n",
      "MultinomialNB BOW with min_df=2 and vocab_size=4288.\n",
      "accuracy:\t0.978\n",
      "f1:\t\t0.808\n",
      "MultinomialNB BOW with min_df=3 and vocab_size=2887.\n",
      "accuracy:\t0.979\n",
      "f1:\t\t0.815\n",
      "MultinomialNB BOW with min_df=4 and vocab_size=2243.\n",
      "accuracy:\t0.977\n",
      "f1:\t\t0.803\n",
      "MultinomialNB BOW with min_df=5 and vocab_size=1876.\n",
      "accuracy:\t0.977\n",
      "f1:\t\t0.803\n",
      "MultinomialNB BOW with min_df=6 and vocab_size=1630.\n",
      "accuracy:\t0.976\n",
      "f1:\t\t0.795\n",
      "MultinomialNB BOW with min_df=7 and vocab_size=1444.\n",
      "accuracy:\t0.976\n",
      "f1:\t\t0.794\n",
      "MultinomialNB BOW with min_df=8 and vocab_size=1286.\n",
      "accuracy:\t0.975\n",
      "f1:\t\t0.790\n",
      "MultinomialNB BOW with min_df=9 and vocab_size=1167.\n",
      "accuracy:\t0.975\n",
      "f1:\t\t0.790\n"
     ]
    }
   ],
   "source": [
    "for min_df in range(1, 10):\n",
    "    cls = CountVectorizer(\n",
    "        tokenizer=TokenTokenizer(),\n",
    "        min_df=min_df\n",
    "        )\n",
    "    X = cls.fit_transform(messages['message'])\n",
    "    X_train, X_test = X[train_indices], X[test_indices]\n",
    "    y_pred = MultinomialNB().fit(X_train, y_train).predict(X_test)\n",
    "    print('MultinomialNB BOW with min_df={} and vocab_size={}.\\naccuracy:\\t{:.3f}\\nf1:\\t\\t{:.3f}'.format(\n",
    "        min_df, len(cls.vocabulary_), accuracy_score(y_test, y_pred), f1_score(y_test, y_pred)))"
   ]
  },
  {
   "cell_type": "markdown",
   "metadata": {},
   "source": [
    "Оптимальное значение в районе 2-3: его и оставим."
   ]
  },
  {
   "cell_type": "markdown",
   "metadata": {},
   "source": [
    "### Векторизация и нграммы"
   ]
  },
  {
   "cell_type": "markdown",
   "metadata": {},
   "source": [
    "Попробуем использовать другой тип векторизации: будем считать не каунты, а частоты.\n",
    "Для этого возьмем TfidfVectorizer."
   ]
  },
  {
   "cell_type": "code",
   "execution_count": 186,
   "metadata": {
    "collapsed": false
   },
   "outputs": [
    {
     "name": "stdout",
     "output_type": "stream",
     "text": [
      "MultinomialNB TF-IDF BOW.\n",
      "accuracy:\t0.959\n",
      "f1:\t\t0.701\n"
     ]
    }
   ],
   "source": [
    "cls = TfidfVectorizer(\n",
    "    )\n",
    "X = cls.fit_transform(messages['message'])\n",
    "X_train, X_test = X[train_indices], X[test_indices]\n",
    "y_pred = MultinomialNB().fit(X_train, y_train).predict(X_test)\n",
    "print('MultinomialNB TF-IDF BOW.\\naccuracy:\\t{:.3f}\\nf1:\\t\\t{:.3f}'.format(\n",
    "    accuracy_score(y_test, y_pred), f1_score(y_test, y_pred)))"
   ]
  },
  {
   "cell_type": "code",
   "execution_count": 189,
   "metadata": {
    "collapsed": false,
    "scrolled": true
   },
   "outputs": [
    {
     "name": "stdout",
     "output_type": "stream",
     "text": [
      "MultinomialNB TF-IDF BOW + token tokenizer with min_df=3.\n",
      "accuracy:\t0.973\n",
      "f1:\t\t0.777\n"
     ]
    }
   ],
   "source": [
    "cls = TfidfVectorizer(\n",
    "    tokenizer=WordTokenizer(),\n",
    "    min_df=3\n",
    "    )\n",
    "X = cls.fit_transform(messages['message'])\n",
    "X_train, X_test = X[train_indices], X[test_indices]\n",
    "y_pred = MultinomialNB().fit(X_train, y_train).predict(X_test)\n",
    "print('MultinomialNB TF-IDF BOW + token tokenizer with min_df=3.\\naccuracy:\\t{:.3f}\\nf1:\\t\\t{:.3f}'.format(\n",
    "    accuracy_score(y_test, y_pred), f1_score(y_test, y_pred)))"
   ]
  },
  {
   "cell_type": "markdown",
   "metadata": {},
   "source": [
    "И без дополнительной обработки, и с найденными параметрами для CountVectorizer результаты незначительно ухудшаются.\n",
    "\n",
    "Скорее всего, это связано с тем, что MultinomialNB лучше работает именно с каунтами, а не с частотами."
   ]
  },
  {
   "cell_type": "markdown",
   "metadata": {},
   "source": [
    "Наконец, попробуем добавить нграммы в наш bow-словарь. \n",
    "Будем использовать min_df=2:"
   ]
  },
  {
   "cell_type": "code",
   "execution_count": 199,
   "metadata": {
    "collapsed": false
   },
   "outputs": [
    {
     "name": "stdout",
     "output_type": "stream",
     "text": [
      "MultinomialNB BOW for 1-1 grams (min_df=2).\n",
      "accuracy:\t0.978\n",
      "f1:\t\t0.808\n",
      "MultinomialNB BOW for 1-2 grams (min_df=2).\n",
      "accuracy:\t0.981\n",
      "f1:\t\t0.829\n",
      "MultinomialNB BOW for 1-3 grams (min_df=2).\n",
      "accuracy:\t0.983\n",
      "f1:\t\t0.846\n",
      "MultinomialNB BOW for 1-4 grams (min_df=2).\n",
      "accuracy:\t0.983\n",
      "f1:\t\t0.845\n",
      "MultinomialNB BOW for 1-5 grams (min_df=2).\n",
      "accuracy:\t0.985\n",
      "f1:\t\t0.854\n",
      "MultinomialNB BOW for 1-6 grams (min_df=2).\n",
      "accuracy:\t0.983\n",
      "f1:\t\t0.834\n"
     ]
    }
   ],
   "source": [
    "for max_n in range(1, 7):\n",
    "    X = CountVectorizer(\n",
    "        tokenizer=TokenTokenizer(),\n",
    "        min_df=2,\n",
    "        ngram_range=(1, max_n)\n",
    "        ).fit_transform(messages['message'])\n",
    "    X_train, X_test = X[train_indices], X[test_indices]\n",
    "    y_pred = MultinomialNB().fit(X_train, y_train).predict(X_test)\n",
    "    print('MultinomialNB BOW for 1-{} grams (min_df=2).\\naccuracy:\\t{:.3f}\\nf1:\\t\\t{:.3f}'.format(\n",
    "        max_n, accuracy_score(y_test, y_pred), f1_score(y_test, y_pred)))"
   ]
  },
  {
   "cell_type": "markdown",
   "metadata": {},
   "source": [
    "### Решающие деревья"
   ]
  },
  {
   "cell_type": "code",
   "execution_count": 255,
   "metadata": {
    "collapsed": true
   },
   "outputs": [],
   "source": [
    "X = CountVectorizer(\n",
    "    tokenizer=TokenTokenizer(),\n",
    "    min_df=2,\n",
    "    ngram_range=(1, 5)\n",
    "    ).fit_transform(messages['message'])\n",
    "X_train, X_test = X[train_indices], X[test_indices]"
   ]
  },
  {
   "cell_type": "code",
   "execution_count": 256,
   "metadata": {
    "collapsed": false
   },
   "outputs": [
    {
     "name": "stdout",
     "output_type": "stream",
     "text": [
      "Multinomial BOW.\n",
      "accuracy:\t0.985\n",
      "f1:\t\t0.854\n"
     ]
    }
   ],
   "source": [
    "bayes_cls = MultinomialNB().fit(X_train, y_train)\n",
    "y_pred_bayes = bayes_cls.predict(X_test)\n",
    "y_pred_proba_bayes = bayes_cls.predict_proba(X_test)\n",
    "print('Multinomial BOW.\\naccuracy:\\t{:.3f}\\nf1:\\t\\t{:.3f}'.format(\n",
    "    accuracy_score(y_test, y_pred_bayes), f1_score(y_test, y_pred_bayes)))"
   ]
  },
  {
   "cell_type": "code",
   "execution_count": 260,
   "metadata": {
    "collapsed": false
   },
   "outputs": [
    {
     "name": "stdout",
     "output_type": "stream",
     "text": [
      "Decision tree BOW.\n",
      "accuracy:\t0.955\n",
      "f1:\t\t0.670\n"
     ]
    }
   ],
   "source": [
    "tree_cls = DecisionTreeClassifier().fit(X_train, y_train)\n",
    "y_pred_tree = tree_cls.predict(X_test)\n",
    "y_pred_proba_tree = tree_cls.predict_proba(X_test)\n",
    "print('Decision tree BOW.\\naccuracy:\\t{:.3f}\\nf1:\\t\\t{:.3f}'.format(\n",
    "    accuracy_score(y_test, y_pred_tree), f1_score(y_test, y_pred_tree)))"
   ]
  },
  {
   "cell_type": "code",
   "execution_count": 267,
   "metadata": {
    "collapsed": false
   },
   "outputs": [
    {
     "name": "stdout",
     "output_type": "stream",
     "text": [
      "Random forest BOW.\n",
      "accuracy:\t0.995\n",
      "f1:\t\t0.947\n"
     ]
    }
   ],
   "source": [
    "rf_cls = RandomForestClassifier(\n",
    "    n_estimators=100,\n",
    "    ).fit(X_train, y_train)\n",
    "y_pred_rf = rf_cls.predict(X_test)\n",
    "y_pred_proba_rf = rf_cls.predict_proba(X_test)\n",
    "print('Random forest BOW.\\naccuracy:\\t{:.3f}\\nf1:\\t\\t{:.3f}'.format(\n",
    "    accuracy_score(y_test, y_pred_rf), f1_score(y_test, y_pred_rf)))"
   ]
  },
  {
   "cell_type": "markdown",
   "metadata": {},
   "source": [
    "Использование RandomForest дает больший рывок в качестве, чем весь препроцессинг: в силу малого размера выборки было бы целесообразно сразу использовать его. Однако, в случае больших текстов, размер bag-of-words словаря оказывается слишком большим для random forest, и препроцессинг фич становится важнее."
   ]
  },
  {
   "cell_type": "code",
   "execution_count": 293,
   "metadata": {
    "collapsed": false
   },
   "outputs": [
    {
     "name": "stdout",
     "output_type": "stream",
     "text": [
      "Bayes classification report\n",
      "             precision    recall  f1-score   support\n",
      "\n",
      "        ham       0.99      0.99      0.99      4303\n",
      "       spam       0.81      0.90      0.85       225\n",
      "\n",
      "avg / total       0.99      0.98      0.99      4528\n",
      "\n"
     ]
    }
   ],
   "source": [
    "print('Bayes classification report')\n",
    "print(classification_report(y_test, y_pred_bayes, target_names=['ham', 'spam']))"
   ]
  },
  {
   "cell_type": "code",
   "execution_count": 294,
   "metadata": {
    "collapsed": false
   },
   "outputs": [
    {
     "name": "stdout",
     "output_type": "stream",
     "text": [
      "Decision tree classification report\n",
      "             precision    recall  f1-score   support\n",
      "\n",
      "        ham       1.00      0.96      0.98      4303\n",
      "       spam       0.53      0.92      0.67       225\n",
      "\n",
      "avg / total       0.97      0.96      0.96      4528\n",
      "\n"
     ]
    }
   ],
   "source": [
    "print('Decision tree classification report')\n",
    "print(classification_report(y_test, y_pred_tree, target_names=['ham', 'spam']))"
   ]
  },
  {
   "cell_type": "code",
   "execution_count": 295,
   "metadata": {
    "collapsed": false,
    "scrolled": true
   },
   "outputs": [
    {
     "name": "stdout",
     "output_type": "stream",
     "text": [
      "Random forest classification report\n",
      "             precision    recall  f1-score   support\n",
      "\n",
      "        ham       1.00      1.00      1.00      4303\n",
      "       spam       0.99      0.91      0.95       225\n",
      "\n",
      "avg / total       0.99      0.99      0.99      4528\n",
      "\n"
     ]
    }
   ],
   "source": [
    "print('Random forest classification report')\n",
    "print(classification_report(y_test, y_pred_rf, target_names=['ham', 'spam']))"
   ]
  },
  {
   "cell_type": "code",
   "execution_count": 289,
   "metadata": {
    "collapsed": false
   },
   "outputs": [
    {
     "data": {
      "text/plain": [
       "<matplotlib.legend.Legend at 0x11a2660d0>"
      ]
     },
     "execution_count": 289,
     "metadata": {},
     "output_type": "execute_result"
    },
    {
     "data": {
      "image/png": "[encoded data removed]",
      "text/plain": [
       "<matplotlib.figure.Figure at 0x11737b310>"
      ]
     },
     "metadata": {},
     "output_type": "display_data"
    }
   ],
   "source": [
    "fpr_bayes, tpr_bayes, thresholds = roc_curve(y_test, y_pred_proba_bayes[:, 1])\n",
    "roc_auc_bayes = roc_auc_score(y_test, y_pred_proba_bayes[:, 1])\n",
    "\n",
    "fpr_tree, tpr_tree, thresholds = roc_curve(y_test, y_pred_proba_tree[:, 1])\n",
    "roc_auc_tree = roc_auc_score(y_test, y_pred_proba_tree[:, 1])\n",
    "\n",
    "fpr_rf, tpr_rf, thresholds = roc_curve(y_test, y_pred_proba_rf[:, 1])\n",
    "roc_auc_rf = roc_auc_score(y_test, y_pred_proba_rf[:, 1])\n",
    "\n",
    "plt.figure(figsize=(16,10))\n",
    "plt.plot(fpr_bayes, tpr_bayes, label='Bayes cls (area = %0.3f)' % roc_auc_bayes)\n",
    "plt.plot(fpr_tree, tpr_tree, label='Decision tree (area = %0.3f)' % roc_auc_tree)\n",
    "plt.plot(fpr_rf, tpr_rf, label='Random forest cls (area = %0.3f)' % roc_auc_rf)\n",
    "plt.plot([0, 1], [0, 1], 'k--')  # random predictions curve\n",
    "plt.xlim([0.0, 1.0])\n",
    "plt.ylim([0.0, 1.0])\n",
    "plt.xlabel('False Positive Rate')\n",
    "plt.ylabel('True Positive Rate')\n",
    "plt.title('ROC curve')\n",
    "plt.legend(loc=\"lower right\")"
   ]
  },
  {
   "cell_type": "markdown",
   "metadata": {},
   "source": [
    "Roc-кривая для решающего дерева -- ломаная из двух звеньев, как и ожидалось. Ломаные для RandomForest и NaiveBayes выглядят похоже, но RandomForest заметно лучше."
   ]
  },
  {
   "cell_type": "markdown",
   "metadata": {},
   "source": [
    "### Добавление новых признаков"
   ]
  },
  {
   "cell_type": "markdown",
   "metadata": {},
   "source": [
    "Попробуем не использовать частотности слов, а сгенерировать свои собственные признаки.\n",
    "Помимо предложенных признаков, добавив количество слов полностью в верхнем регистре."
   ]
  },
  {
   "cell_type": "code",
   "execution_count": 342,
   "metadata": {
    "collapsed": false
   },
   "outputs": [],
   "source": [
    "df, df_test = train_test_split(messages, test_size=0.2)"
   ]
  },
  {
   "cell_type": "code",
   "execution_count": 375,
   "metadata": {
    "collapsed": false
   },
   "outputs": [],
   "source": [
    "import string\n",
    "\n",
    "def caps_words(text):\n",
    "    tokens = TokenTokenizer()(text)\n",
    "    return len([t for t in tokens if all(c in string.uppercase for c in t)])\n",
    "\n",
    "\n",
    "def add_numeric_features(df):\n",
    "    df['length'] = df['message'].map(lambda text: len(text))\n",
    "    df['length_CAPS'] = df['message'].map(lambda text: len([c for c in text if c in string.uppercase]))\n",
    "    df['caps_words'] = df['message'].map(lambda text: caps_words(text))\n",
    "    for sign in ('!.,?'):\n",
    "        df['length_{}'.format(sign)] = df['message'].map(lambda text: text.count(sign))\n",
    "    df['digits'] = df['message'].map(lambda text: len([c for c in text if c in '0123456789']))"
   ]
  },
  {
   "cell_type": "code",
   "execution_count": 344,
   "metadata": {
    "collapsed": false,
    "scrolled": false
   },
   "outputs": [
    {
     "data": {
      "text/html": [
       "<div>\n",
       "<table border=\"1\" class=\"dataframe\">\n",
       "  <thead>\n",
       "    <tr style=\"text-align: right;\">\n",
       "      <th></th>\n",
       "      <th></th>\n",
       "      <th>caps_words</th>\n",
       "      <th>digits</th>\n",
       "      <th>length</th>\n",
       "      <th>length_!</th>\n",
       "      <th>length_,</th>\n",
       "      <th>length_.</th>\n",
       "      <th>length_?</th>\n",
       "      <th>length_CAPS</th>\n",
       "    </tr>\n",
       "    <tr>\n",
       "      <th>label</th>\n",
       "      <th></th>\n",
       "      <th></th>\n",
       "      <th></th>\n",
       "      <th></th>\n",
       "      <th></th>\n",
       "      <th></th>\n",
       "      <th></th>\n",
       "      <th></th>\n",
       "      <th></th>\n",
       "    </tr>\n",
       "  </thead>\n",
       "  <tbody>\n",
       "    <tr>\n",
       "      <th rowspan=\"8\" valign=\"top\">ham</th>\n",
       "      <th>count</th>\n",
       "      <td>3842.000000</td>\n",
       "      <td>3842.000000</td>\n",
       "      <td>3842.000000</td>\n",
       "      <td>3842.000000</td>\n",
       "      <td>3842.000000</td>\n",
       "      <td>3842.000000</td>\n",
       "      <td>3842.000000</td>\n",
       "      <td>3842.000000</td>\n",
       "    </tr>\n",
       "    <tr>\n",
       "      <th>mean</th>\n",
       "      <td>0.959136</td>\n",
       "      <td>0.312337</td>\n",
       "      <td>70.119209</td>\n",
       "      <td>0.170224</td>\n",
       "      <td>0.311556</td>\n",
       "      <td>1.962259</td>\n",
       "      <td>0.275638</td>\n",
       "      <td>4.069755</td>\n",
       "    </tr>\n",
       "    <tr>\n",
       "      <th>std</th>\n",
       "      <td>2.902054</td>\n",
       "      <td>1.087813</td>\n",
       "      <td>56.600284</td>\n",
       "      <td>0.602147</td>\n",
       "      <td>0.743639</td>\n",
       "      <td>2.678733</td>\n",
       "      <td>0.629298</td>\n",
       "      <td>10.976903</td>\n",
       "    </tr>\n",
       "    <tr>\n",
       "      <th>min</th>\n",
       "      <td>0.000000</td>\n",
       "      <td>0.000000</td>\n",
       "      <td>2.000000</td>\n",
       "      <td>0.000000</td>\n",
       "      <td>0.000000</td>\n",
       "      <td>0.000000</td>\n",
       "      <td>0.000000</td>\n",
       "      <td>0.000000</td>\n",
       "    </tr>\n",
       "    <tr>\n",
       "      <th>25%</th>\n",
       "      <td>0.000000</td>\n",
       "      <td>0.000000</td>\n",
       "      <td>33.000000</td>\n",
       "      <td>0.000000</td>\n",
       "      <td>0.000000</td>\n",
       "      <td>0.000000</td>\n",
       "      <td>0.000000</td>\n",
       "      <td>1.000000</td>\n",
       "    </tr>\n",
       "    <tr>\n",
       "      <th>50%</th>\n",
       "      <td>0.000000</td>\n",
       "      <td>0.000000</td>\n",
       "      <td>51.000000</td>\n",
       "      <td>0.000000</td>\n",
       "      <td>0.000000</td>\n",
       "      <td>1.000000</td>\n",
       "      <td>0.000000</td>\n",
       "      <td>2.000000</td>\n",
       "    </tr>\n",
       "    <tr>\n",
       "      <th>75%</th>\n",
       "      <td>1.000000</td>\n",
       "      <td>0.000000</td>\n",
       "      <td>91.000000</td>\n",
       "      <td>0.000000</td>\n",
       "      <td>0.000000</td>\n",
       "      <td>3.000000</td>\n",
       "      <td>0.000000</td>\n",
       "      <td>3.000000</td>\n",
       "    </tr>\n",
       "    <tr>\n",
       "      <th>max</th>\n",
       "      <td>37.000000</td>\n",
       "      <td>23.000000</td>\n",
       "      <td>910.000000</td>\n",
       "      <td>11.000000</td>\n",
       "      <td>10.000000</td>\n",
       "      <td>41.000000</td>\n",
       "      <td>12.000000</td>\n",
       "      <td>138.000000</td>\n",
       "    </tr>\n",
       "    <tr>\n",
       "      <th rowspan=\"8\" valign=\"top\">spam</th>\n",
       "      <th>count</th>\n",
       "      <td>615.000000</td>\n",
       "      <td>615.000000</td>\n",
       "      <td>615.000000</td>\n",
       "      <td>615.000000</td>\n",
       "      <td>615.000000</td>\n",
       "      <td>615.000000</td>\n",
       "      <td>615.000000</td>\n",
       "      <td>615.000000</td>\n",
       "    </tr>\n",
       "    <tr>\n",
       "      <th>mean</th>\n",
       "      <td>2.538211</td>\n",
       "      <td>15.821138</td>\n",
       "      <td>138.295935</td>\n",
       "      <td>0.713821</td>\n",
       "      <td>0.582114</td>\n",
       "      <td>2.053659</td>\n",
       "      <td>0.214634</td>\n",
       "      <td>15.234146</td>\n",
       "    </tr>\n",
       "    <tr>\n",
       "      <th>std</th>\n",
       "      <td>2.793330</td>\n",
       "      <td>8.619001</td>\n",
       "      <td>29.680331</td>\n",
       "      <td>0.928759</td>\n",
       "      <td>1.088587</td>\n",
       "      <td>1.726979</td>\n",
       "      <td>0.516295</td>\n",
       "      <td>12.797361</td>\n",
       "    </tr>\n",
       "    <tr>\n",
       "      <th>min</th>\n",
       "      <td>0.000000</td>\n",
       "      <td>0.000000</td>\n",
       "      <td>13.000000</td>\n",
       "      <td>0.000000</td>\n",
       "      <td>0.000000</td>\n",
       "      <td>0.000000</td>\n",
       "      <td>0.000000</td>\n",
       "      <td>0.000000</td>\n",
       "    </tr>\n",
       "    <tr>\n",
       "      <th>25%</th>\n",
       "      <td>1.000000</td>\n",
       "      <td>11.000000</td>\n",
       "      <td>132.000000</td>\n",
       "      <td>0.000000</td>\n",
       "      <td>0.000000</td>\n",
       "      <td>1.000000</td>\n",
       "      <td>0.000000</td>\n",
       "      <td>7.000000</td>\n",
       "    </tr>\n",
       "    <tr>\n",
       "      <th>50%</th>\n",
       "      <td>2.000000</td>\n",
       "      <td>16.000000</td>\n",
       "      <td>149.000000</td>\n",
       "      <td>0.000000</td>\n",
       "      <td>0.000000</td>\n",
       "      <td>2.000000</td>\n",
       "      <td>0.000000</td>\n",
       "      <td>13.000000</td>\n",
       "    </tr>\n",
       "    <tr>\n",
       "      <th>75%</th>\n",
       "      <td>4.000000</td>\n",
       "      <td>22.000000</td>\n",
       "      <td>157.000000</td>\n",
       "      <td>1.000000</td>\n",
       "      <td>1.000000</td>\n",
       "      <td>3.000000</td>\n",
       "      <td>0.000000</td>\n",
       "      <td>20.000000</td>\n",
       "    </tr>\n",
       "    <tr>\n",
       "      <th>max</th>\n",
       "      <td>27.000000</td>\n",
       "      <td>41.000000</td>\n",
       "      <td>224.000000</td>\n",
       "      <td>5.000000</td>\n",
       "      <td>6.000000</td>\n",
       "      <td>13.000000</td>\n",
       "      <td>4.000000</td>\n",
       "      <td>128.000000</td>\n",
       "    </tr>\n",
       "  </tbody>\n",
       "</table>\n",
       "</div>"
      ],
      "text/plain": [
       "              caps_words       digits       length     length_!     length_,  \\\n",
       "label                                                                          \n",
       "ham   count  3842.000000  3842.000000  3842.000000  3842.000000  3842.000000   \n",
       "      mean      0.959136     0.312337    70.119209     0.170224     0.311556   \n",
       "      std       2.902054     1.087813    56.600284     0.602147     0.743639   \n",
       "      min       0.000000     0.000000     2.000000     0.000000     0.000000   \n",
       "      25%       0.000000     0.000000    33.000000     0.000000     0.000000   \n",
       "      50%       0.000000     0.000000    51.000000     0.000000     0.000000   \n",
       "      75%       1.000000     0.000000    91.000000     0.000000     0.000000   \n",
       "      max      37.000000    23.000000   910.000000    11.000000    10.000000   \n",
       "spam  count   615.000000   615.000000   615.000000   615.000000   615.000000   \n",
       "      mean      2.538211    15.821138   138.295935     0.713821     0.582114   \n",
       "      std       2.793330     8.619001    29.680331     0.928759     1.088587   \n",
       "      min       0.000000     0.000000    13.000000     0.000000     0.000000   \n",
       "      25%       1.000000    11.000000   132.000000     0.000000     0.000000   \n",
       "      50%       2.000000    16.000000   149.000000     0.000000     0.000000   \n",
       "      75%       4.000000    22.000000   157.000000     1.000000     1.000000   \n",
       "      max      27.000000    41.000000   224.000000     5.000000     6.000000   \n",
       "\n",
       "                length_.     length_?  length_CAPS  \n",
       "label                                               \n",
       "ham   count  3842.000000  3842.000000  3842.000000  \n",
       "      mean      1.962259     0.275638     4.069755  \n",
       "      std       2.678733     0.629298    10.976903  \n",
       "      min       0.000000     0.000000     0.000000  \n",
       "      25%       0.000000     0.000000     1.000000  \n",
       "      50%       1.000000     0.000000     2.000000  \n",
       "      75%       3.000000     0.000000     3.000000  \n",
       "      max      41.000000    12.000000   138.000000  \n",
       "spam  count   615.000000   615.000000   615.000000  \n",
       "      mean      2.053659     0.214634    15.234146  \n",
       "      std       1.726979     0.516295    12.797361  \n",
       "      min       0.000000     0.000000     0.000000  \n",
       "      25%       1.000000     0.000000     7.000000  \n",
       "      50%       2.000000     0.000000    13.000000  \n",
       "      75%       3.000000     0.000000    20.000000  \n",
       "      max      13.000000     4.000000   128.000000  "
      ]
     },
     "execution_count": 344,
     "metadata": {},
     "output_type": "execute_result"
    }
   ],
   "source": [
    "#import warnings\n",
    "#warnings.filterwarnings('ignore')\n",
    "add_features(df)\n",
    "df.groupby('label').describe()"
   ]
  },
  {
   "cell_type": "markdown",
   "metadata": {},
   "source": [
    "Действительно, почти в каждом столбце есть существенное различие между mean для spam и mean для ham.\n",
    "\n",
    "Соберем теперь наиболее частотные спам-слова с помощью нашего WordTokenizer (пунктуация в топе нам будет только мешаться, да и мы уже постарались ее учесть в признаках выше):"
   ]
  },
  {
   "cell_type": "code",
   "execution_count": 372,
   "metadata": {
    "collapsed": false
   },
   "outputs": [
    {
     "name": "stdout",
     "output_type": "stream",
     "text": [
      "Spam top-30 most popular words:\n",
      "\n",
      "to : 501\n",
      "a : 284\n",
      "2 : 172\n",
      "call : 160\n",
      "or : 153\n",
      "you : 147\n",
      "for : 145\n",
      "your : 145\n",
      "the : 140\n",
      "on : 120\n",
      "now : 119\n",
      "Call : 119\n",
      "4 : 118\n",
      "is : 112\n",
      "FREE : 102\n",
      "have : 99\n",
      "and : 97\n",
      "1 : 94\n",
      "from : 93\n",
      "with : 90\n",
      "ur : 90\n",
      "U : 90\n",
      "of : 75\n",
      "mobile : 75\n",
      "www : 74\n",
      "are : 67\n",
      "text : 67\n",
      "in : 64\n",
      "To : 63\n",
      "txt : 62\n"
     ]
    }
   ],
   "source": [
    "from collections import Counter\n",
    "\n",
    "spam_messages = list(df[df['label'] == 'spam']['message'])\n",
    "spam_messages = [WordTokenizer()(msg) for msg in spam_messages]\n",
    "spam_words = [word for msg in spam_messages for word in msg]\n",
    "spam_cnt = Counter(spam_words)\n",
    "print('Spam top-30 most popular words:\\n')\n",
    "print('\\n'.join(['{} : {}'.format(word, count) for word, count in cnt.most_common(30)]))\n",
    "\n",
    "spam_messages = list(df[df['label'] == 'spam']['message'])\n",
    "spam_messages = [WordTokenizer()(msg) for msg in spam_messages]\n",
    "spam_words = [word for msg in spam_messages for word in msg]\n",
    "spam_cnt = Counter(spam_words)"
   ]
  },
  {
   "cell_type": "markdown",
   "metadata": {},
   "source": [
    "Здесь уже есть неплохие признаки рекламных сообщений (например 'FREE' и 'Call' в топе), но большую часть все же составлят стоп-слова. Можно было бы отфильтровать используя уже скачанный нами список стоп-слов.\n",
    "\n",
    "Но вместо этого будет лучше посмотреть на топ частотных слов в ham messages и пересечь эти два множества.\n",
    "Для этого возьмем, к примеру топ-100 спам-слов и топ-500 ham слов."
   ]
  },
  {
   "cell_type": "code",
   "execution_count": 371,
   "metadata": {
    "collapsed": false,
    "scrolled": true
   },
   "outputs": [
    {
     "name": "stdout",
     "output_type": "stream",
     "text": [
      "Spam top-100 - ham top-500 most popular words:\n",
      "\n",
      "Call : 119\n",
      "FREE : 102\n",
      "mobile : 75\n",
      "www : 74\n",
      "To : 63\n",
      "txt : 62\n",
      "claim : 62\n",
      "T : 61\n",
      "prize : 59\n",
      "Txt : 59\n",
      "150p : 58\n",
      "STOP : 52\n",
      "50 : 48\n",
      "cash : 47\n",
      "16 : 45\n",
      "18 : 45\n",
      "Nokia : 43\n",
      "com : 42\n",
      "uk : 42\n",
      "service : 41\n",
      "contact : 41\n",
      "won : 41\n",
      "co : 41\n",
      "500 : 39\n",
      "Free : 38\n",
      "NOW : 37\n",
      "Text : 37\n",
      "100 : 35\n",
      "Cs : 35\n",
      "1000 : 35\n",
      "per : 35\n",
      "tone : 33\n",
      "URGENT : 33\n",
      "Reply : 32\n",
      "line : 30\n",
      "customer : 30\n",
      "awarded : 29\n",
      "shows : 28\n",
      "draw : 28\n",
      "Get : 28\n",
      "win : 26\n"
     ]
    }
   ],
   "source": [
    "ham_messages = list(df[df['label'] == 'ham']['message'])\n",
    "ham_messages = [WordTokenizer()(msg) for msg in ham_messages]\n",
    "ham_words = [word for msg in ham_messages for word in msg]\n",
    "ham_cnt = Counter(ham_words)\n",
    "ham_top_500 = set(word for word, count in ham_cnt.most_common(500))\n",
    "\n",
    "print('Spam top-100 - ham top-500 most popular words:\\n')\n",
    "\n",
    "print('\\n'.join(['{} : {}'.format(w, c) for w, c in spam_cnt.most_common(100) if w not in ham_top_500]))"
   ]
  },
  {
   "cell_type": "markdown",
   "metadata": {},
   "source": [
    "Вот этот список уже значительно больше похож на рекламные слова! \n",
    "Уберем отсюда числа, а все остальные слова запишем в список фич."
   ]
  },
  {
   "cell_type": "code",
   "execution_count": 384,
   "metadata": {
    "collapsed": false
   },
   "outputs": [],
   "source": [
    "spam_words = [w for w, c in spam_cnt.most_common(100) if w not in ham_top_500 and not w.isdigit()]\n",
    "\n",
    "def add_word_features(df):\n",
    "    for word in spam_words:\n",
    "        df['spamword_{}'.format(word)] = df['message'].map(lambda text: int(word in text))\n",
    "    df['spamword_count'] = df['message'].map(lambda text : sum(int(word in text) for word in spam_words))"
   ]
  },
  {
   "cell_type": "markdown",
   "metadata": {},
   "source": [
    "Сформируем train_set и test_set и протестируем наши старые модели."
   ]
  },
  {
   "cell_type": "code",
   "execution_count": 390,
   "metadata": {
    "collapsed": false
   },
   "outputs": [],
   "source": [
    "add_word_features(df)\n",
    "add_features(df_test)\n",
    "add_word_features(df_test)"
   ]
  },
  {
   "cell_type": "code",
   "execution_count": 402,
   "metadata": {
    "collapsed": false
   },
   "outputs": [],
   "source": [
    "X_train = np.array(df.ix[:, 2:])\n",
    "X_test = np.array(df_test.ix[:, 2:])\n",
    "y_train = np.array([1 if l == 'spam' else 0 for l in df['label']])\n",
    "y_test = np.array([1 if l == 'spam' else 0 for l in df_test['label']])"
   ]
  },
  {
   "cell_type": "code",
   "execution_count": 409,
   "metadata": {
    "collapsed": false
   },
   "outputs": [
    {
     "name": "stdout",
     "output_type": "stream",
     "text": [
      "Naive bayes classification report\n",
      "             precision    recall  f1-score   support\n",
      "\n",
      "        ham       0.98      0.97      0.98       983\n",
      "       spam       0.82      0.87      0.84       132\n",
      "\n",
      "avg / total       0.96      0.96      0.96      1115\n",
      "\n"
     ]
    }
   ],
   "source": [
    "bayes_cls = MultinomialNB().fit(X_train, y_train)\n",
    "y_pred_bayes = bayes_cls.predict(X_test)\n",
    "y_pred_proba_bayes = bayes_cls.predict_proba(X_test)\n",
    "print('Naive bayes classification report')\n",
    "print(classification_report(y_test, y_pred_bayes, target_names=['ham', 'spam']))"
   ]
  },
  {
   "cell_type": "code",
   "execution_count": 408,
   "metadata": {
    "collapsed": false
   },
   "outputs": [
    {
     "name": "stdout",
     "output_type": "stream",
     "text": [
      "Decision tree classification report\n",
      "             precision    recall  f1-score   support\n",
      "\n",
      "        ham       0.99      0.99      0.99       983\n",
      "       spam       0.92      0.92      0.92       132\n",
      "\n",
      "avg / total       0.98      0.98      0.98      1115\n",
      "\n"
     ]
    }
   ],
   "source": [
    "tree_cls = DecisionTreeClassifier().fit(X_train, y_train)\n",
    "y_pred_tree = tree_cls.predict(X_test)\n",
    "y_pred_proba_tree = tree_cls.predict_proba(X_test)\n",
    "print('Decision tree classification report')\n",
    "print(classification_report(y_test, y_pred_tree, target_names=['ham', 'spam']))"
   ]
  },
  {
   "cell_type": "code",
   "execution_count": 410,
   "metadata": {
    "collapsed": false
   },
   "outputs": [
    {
     "name": "stdout",
     "output_type": "stream",
     "text": [
      "Random forest classification report\n",
      "             precision    recall  f1-score   support\n",
      "\n",
      "        ham       0.98      1.00      0.99       983\n",
      "       spam       0.99      0.89      0.94       132\n",
      "\n",
      "avg / total       0.99      0.99      0.99      1115\n",
      "\n"
     ]
    }
   ],
   "source": [
    "rf_cls = RandomForestClassifier(\n",
    "    n_estimators=100,\n",
    "    ).fit(X_train, y_train)\n",
    "y_pred_rf = rf_cls.predict(X_test)\n",
    "y_pred_proba_rf = rf_cls.predict_proba(X_test)\n",
    "print('Random forest classification report')\n",
    "print(classification_report(y_test, y_pred_rf, target_names=['ham', 'spam']))"
   ]
  },
  {
   "cell_type": "markdown",
   "metadata": {},
   "source": [
    "В итоге, качество байесовского классификатора немного ухудшилось по сравнению с предыдущим замером -- он более оптимизирован для работы с word counts, чем с произвольными категориальными признаками.\n",
    "\n",
    "Зато решающее дерево теперь показывает результат куда лучше, чем байесовский классификатор, а random forest опять близок к идеальной классификации."
   ]
  }
 ],
 "metadata": {
  "kernelspec": {
   "display_name": "Python 3",
   "language": "python",
   "name": "python3"
  },
  "language_info": {
   "codemirror_mode": {
    "name": "ipython",
    "version": 3
   },
   "file_extension": ".py",
   "mimetype": "text/x-python",
   "name": "python",
   "nbconvert_exporter": "python",
   "pygments_lexer": "ipython3",
   "version": "3.5.1"
  }
 },
 "nbformat": 4,
 "nbformat_minor": 2
}
